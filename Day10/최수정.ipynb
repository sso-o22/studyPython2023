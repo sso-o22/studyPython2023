{
 "cells": [
  {
   "attachments": {},
   "cell_type": "markdown",
   "metadata": {},
   "source": [
    "## 1번"
   ]
  },
  {
   "cell_type": "code",
   "execution_count": 49,
   "metadata": {},
   "outputs": [
    {
     "name": "stdout",
     "output_type": "stream",
     "text": [
      "원의 넓이 : 3.141592\n"
     ]
    }
   ],
   "source": [
    "r = float(input('반지름을 입력하세요 : '))\n",
    "area = 3.141592 * r ** 2\n",
    "print('원의 넓이 :', area)"
   ]
  },
  {
   "attachments": {},
   "cell_type": "markdown",
   "metadata": {},
   "source": [
    "## 2번"
   ]
  },
  {
   "cell_type": "code",
   "execution_count": 89,
   "metadata": {},
   "outputs": [
    {
     "name": "stdout",
     "output_type": "stream",
     "text": [
      "화성\n"
     ]
    }
   ],
   "source": [
    "a = { 'Mercury' : '수성',\n",
    "      'Venus' : '금성',\n",
    "      'Earth' : '지구',\n",
    "      'Mars' : '화성',\n",
    "      'Jupiter' : '목성',\n",
    "      'Saturn' : '토성',\n",
    "      'Uranus' : '천왕성',\n",
    "      'Neptune' : '해왕성'}\n",
    "\n",
    "print(a[input('행성을 영어로 입력하세요 : ')])"
   ]
  },
  {
   "attachments": {},
   "cell_type": "markdown",
   "metadata": {},
   "source": [
    "## 3번"
   ]
  },
  {
   "cell_type": "code",
   "execution_count": 77,
   "metadata": {},
   "outputs": [
    {
     "name": "stdout",
     "output_type": "stream",
     "text": [
      "7 / I'm GOING to LEAVE the DOOR open "
     ]
    }
   ],
   "source": [
    "str = input('영어 문장을 입력하세요 : ').split(' ')\n",
    "count = len(str)\n",
    "print(count,end=' / ')\n",
    "\n",
    "for i in range(count):\n",
    "    if i % 2 != 0:\n",
    "        print(str[i].upper(), end=' ')\n",
    "    else:\n",
    "        print(str[i], end=' ')"
   ]
  },
  {
   "attachments": {},
   "cell_type": "markdown",
   "metadata": {},
   "source": [
    "## 4번"
   ]
  },
  {
   "cell_type": "code",
   "execution_count": 86,
   "metadata": {},
   "outputs": [
    {
     "name": "stdout",
     "output_type": "stream",
     "text": [
      "거꾸로 출력 :  9 7 5 3 1\n"
     ]
    }
   ],
   "source": [
    "num = input('숫자를 여러개 입력하세요 : ').split(' ')\n",
    "result = ' '.join(num[::-1])\n",
    "\n",
    "print('거꾸로 출력 : ', result)"
   ]
  },
  {
   "attachments": {},
   "cell_type": "markdown",
   "metadata": {},
   "source": [
    "## 5번"
   ]
  },
  {
   "cell_type": "code",
   "execution_count": 93,
   "metadata": {},
   "outputs": [
    {
     "name": "stdout",
     "output_type": "stream",
     "text": [
      "3 6 9 12 15 18 21 24 27 "
     ]
    }
   ],
   "source": [
    "n = int(input('구구단 단수를 입력하세요 : '))\n",
    "for i in range(1, 10):\n",
    "    print(n * i, end=' ')"
   ]
  }
 ],
 "metadata": {
  "kernelspec": {
   "display_name": "venv",
   "language": "python",
   "name": "python3"
  },
  "language_info": {
   "codemirror_mode": {
    "name": "ipython",
    "version": 3
   },
   "file_extension": ".py",
   "mimetype": "text/x-python",
   "name": "python",
   "nbconvert_exporter": "python",
   "pygments_lexer": "ipython3",
   "version": "3.11.1"
  },
  "orig_nbformat": 4,
  "vscode": {
   "interpreter": {
    "hash": "1732cc55dde7803caebda0df0f1738cc035ced225322b7cf344f368c2c40d995"
   }
  }
 },
 "nbformat": 4,
 "nbformat_minor": 2
}
